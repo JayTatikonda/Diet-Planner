{
 "cells": [
  {
   "cell_type": "code",
   "execution_count": 1,
   "metadata": {},
   "outputs": [],
   "source": [
    "import pandas as pd\n",
    "import numpy as np"
   ]
  },
  {
   "cell_type": "code",
   "execution_count": 29,
   "metadata": {},
   "outputs": [],
   "source": [
    "import ast\n",
    "from itertools import chain"
   ]
  },
  {
   "cell_type": "code",
   "execution_count": 2,
   "metadata": {},
   "outputs": [],
   "source": [
    "df = pd.read_csv('recipes_w_search_terms.csv')"
   ]
  },
  {
   "cell_type": "code",
   "execution_count": 31,
   "metadata": {},
   "outputs": [
    {
     "data": {
      "text/html": [
       "<div>\n",
       "<style scoped>\n",
       "    .dataframe tbody tr th:only-of-type {\n",
       "        vertical-align: middle;\n",
       "    }\n",
       "\n",
       "    .dataframe tbody tr th {\n",
       "        vertical-align: top;\n",
       "    }\n",
       "\n",
       "    .dataframe thead th {\n",
       "        text-align: right;\n",
       "    }\n",
       "</style>\n",
       "<table border=\"1\" class=\"dataframe\">\n",
       "  <thead>\n",
       "    <tr style=\"text-align: right;\">\n",
       "      <th></th>\n",
       "      <th>id</th>\n",
       "      <th>name</th>\n",
       "      <th>description</th>\n",
       "      <th>ingredients</th>\n",
       "      <th>ingredients_raw_str</th>\n",
       "      <th>serving_size</th>\n",
       "      <th>servings</th>\n",
       "      <th>steps</th>\n",
       "      <th>tags</th>\n",
       "      <th>search_terms</th>\n",
       "    </tr>\n",
       "  </thead>\n",
       "  <tbody>\n",
       "    <tr>\n",
       "      <th>0</th>\n",
       "      <td>96313</td>\n",
       "      <td>Grilled Garlic Cheese Grits</td>\n",
       "      <td>We love grits, this is another good way to ser...</td>\n",
       "      <td>['water', 'grits', 'salt', 'cheddar cheese', '...</td>\n",
       "      <td>[\"4   cups    water\",\"1   cup   uncooked old f...</td>\n",
       "      <td>1 (155 g)</td>\n",
       "      <td>8</td>\n",
       "      <td>['I a sauce pan, bring water to a boil; slowly...</td>\n",
       "      <td>['time-to-make', 'course', 'main-ingredient', ...</td>\n",
       "      <td>{'diabetic', 'low-calorie', 'vegetarian', 'low...</td>\n",
       "    </tr>\n",
       "    <tr>\n",
       "      <th>1</th>\n",
       "      <td>232037</td>\n",
       "      <td>Simple Shrimp and Andouille Jambalaya</td>\n",
       "      <td>Simple, easy and very tasty for when you are i...</td>\n",
       "      <td>['onion', 'red bell pepper', 'garlic cloves', ...</td>\n",
       "      <td>[\"1   medium    onion, chopped coarse \",\"1   m...</td>\n",
       "      <td>1 (366 g)</td>\n",
       "      <td>4</td>\n",
       "      <td>['In a food processor, pulse the onion, red pe...</td>\n",
       "      <td>['60-minutes-or-less', 'time-to-make', 'course...</td>\n",
       "      <td>{'dinner', 'shrimp'}</td>\n",
       "    </tr>\n",
       "    <tr>\n",
       "      <th>2</th>\n",
       "      <td>41090</td>\n",
       "      <td>black-and-white bean salad</td>\n",
       "      <td>NaN</td>\n",
       "      <td>['white beans', 'canned black beans', 'tomatoe...</td>\n",
       "      <td>[\"1   cup   canned white beans, rinsed and dra...</td>\n",
       "      <td>1 (807 g)</td>\n",
       "      <td>1</td>\n",
       "      <td>['In a large bowl, combine beans, tomato, onio...</td>\n",
       "      <td>['15-minutes-or-less', 'time-to-make', 'course...</td>\n",
       "      <td>{'vegetarian', 'salad', 'side', 'dinner', 'veg...</td>\n",
       "    </tr>\n",
       "    <tr>\n",
       "      <th>3</th>\n",
       "      <td>60656</td>\n",
       "      <td>Crock Pot Italian Zucchini</td>\n",
       "      <td>This is a good recipe for weight watchers. It ...</td>\n",
       "      <td>['zucchini', 'yellow squash', 'diced tomatoes'...</td>\n",
       "      <td>[\"2       zucchini, sliced \",\"2   small    yel...</td>\n",
       "      <td>1 (244 g)</td>\n",
       "      <td>4</td>\n",
       "      <td>['Put all ingredients in the crock pot and coo...</td>\n",
       "      <td>['weeknight', 'time-to-make', 'course', 'main-...</td>\n",
       "      <td>{'side', 'vegetarian', 'italian'}</td>\n",
       "    </tr>\n",
       "    <tr>\n",
       "      <th>4</th>\n",
       "      <td>232047</td>\n",
       "      <td>Beef Stew With Dried Cherries</td>\n",
       "      <td>This is a fabulous stew that came from one of ...</td>\n",
       "      <td>['beef stew meat', 'flour', 'salt', 'allspice'...</td>\n",
       "      <td>[\"3   lbs    beef stew meat\",\"3   tablespoons ...</td>\n",
       "      <td>1 (358 g)</td>\n",
       "      <td>8</td>\n",
       "      <td>['Preheat oven to 350°F.', \"Cut beef into 1 in...</td>\n",
       "      <td>['time-to-make', 'course', 'main-ingredient', ...</td>\n",
       "      <td>{'dinner'}</td>\n",
       "    </tr>\n",
       "  </tbody>\n",
       "</table>\n",
       "</div>"
      ],
      "text/plain": [
       "       id                                   name  \\\n",
       "0   96313            Grilled Garlic Cheese Grits   \n",
       "1  232037  Simple Shrimp and Andouille Jambalaya   \n",
       "2   41090             black-and-white bean salad   \n",
       "3   60656             Crock Pot Italian Zucchini   \n",
       "4  232047          Beef Stew With Dried Cherries   \n",
       "\n",
       "                                         description  \\\n",
       "0  We love grits, this is another good way to ser...   \n",
       "1  Simple, easy and very tasty for when you are i...   \n",
       "2                                                NaN   \n",
       "3  This is a good recipe for weight watchers. It ...   \n",
       "4  This is a fabulous stew that came from one of ...   \n",
       "\n",
       "                                         ingredients  \\\n",
       "0  ['water', 'grits', 'salt', 'cheddar cheese', '...   \n",
       "1  ['onion', 'red bell pepper', 'garlic cloves', ...   \n",
       "2  ['white beans', 'canned black beans', 'tomatoe...   \n",
       "3  ['zucchini', 'yellow squash', 'diced tomatoes'...   \n",
       "4  ['beef stew meat', 'flour', 'salt', 'allspice'...   \n",
       "\n",
       "                                 ingredients_raw_str serving_size  servings  \\\n",
       "0  [\"4   cups    water\",\"1   cup   uncooked old f...    1 (155 g)         8   \n",
       "1  [\"1   medium    onion, chopped coarse \",\"1   m...    1 (366 g)         4   \n",
       "2  [\"1   cup   canned white beans, rinsed and dra...    1 (807 g)         1   \n",
       "3  [\"2       zucchini, sliced \",\"2   small    yel...    1 (244 g)         4   \n",
       "4  [\"3   lbs    beef stew meat\",\"3   tablespoons ...    1 (358 g)         8   \n",
       "\n",
       "                                               steps  \\\n",
       "0  ['I a sauce pan, bring water to a boil; slowly...   \n",
       "1  ['In a food processor, pulse the onion, red pe...   \n",
       "2  ['In a large bowl, combine beans, tomato, onio...   \n",
       "3  ['Put all ingredients in the crock pot and coo...   \n",
       "4  ['Preheat oven to 350°F.', \"Cut beef into 1 in...   \n",
       "\n",
       "                                                tags  \\\n",
       "0  ['time-to-make', 'course', 'main-ingredient', ...   \n",
       "1  ['60-minutes-or-less', 'time-to-make', 'course...   \n",
       "2  ['15-minutes-or-less', 'time-to-make', 'course...   \n",
       "3  ['weeknight', 'time-to-make', 'course', 'main-...   \n",
       "4  ['time-to-make', 'course', 'main-ingredient', ...   \n",
       "\n",
       "                                        search_terms  \n",
       "0  {'diabetic', 'low-calorie', 'vegetarian', 'low...  \n",
       "1                               {'dinner', 'shrimp'}  \n",
       "2  {'vegetarian', 'salad', 'side', 'dinner', 'veg...  \n",
       "3                  {'side', 'vegetarian', 'italian'}  \n",
       "4                                         {'dinner'}  "
      ]
     },
     "execution_count": 31,
     "metadata": {},
     "output_type": "execute_result"
    }
   ],
   "source": [
    "df.head()"
   ]
  },
  {
   "cell_type": "code",
   "execution_count": 17,
   "metadata": {},
   "outputs": [
    {
     "data": {
      "text/plain": [
       "0         [water, grits, salt, cheddar cheese, garlic, o...\n",
       "1         [onion, red bell pepper, garlic cloves, large ...\n",
       "2         [white beans, canned black beans, tomatoes, on...\n",
       "3         [zucchini, yellow squash, diced tomatoes, onio...\n",
       "4         [beef stew meat, flour, salt, allspice, cinnam...\n",
       "                                ...                        \n",
       "494958    [unbleached flour, baking soda, butter, orange...\n",
       "494959    [roasting chickens, lemons, rosemary sprigs, p...\n",
       "494960    [boneless beef chuck roast, olive oil, tawny p...\n",
       "494961    [cabbage, condensed tomato soup, kielbasa, oni...\n",
       "494962    [zucchini, onion, butter, oregano, basil, salt...\n",
       "Name: ingredients, Length: 494963, dtype: object"
      ]
     },
     "execution_count": 17,
     "metadata": {},
     "output_type": "execute_result"
    }
   ],
   "source": [
    "ings = df['ingredients'].map(lambda x: ast.literal_eval(x))"
   ]
  },
  {
   "cell_type": "code",
   "execution_count": 35,
   "metadata": {},
   "outputs": [],
   "source": [
    "ings_unique = ings.map(lambda x: set(x))"
   ]
  },
  {
   "cell_type": "code",
   "execution_count": 38,
   "metadata": {},
   "outputs": [],
   "source": [
    "ings_list = set(chain(*ings_unique))"
   ]
  },
  {
   "cell_type": "code",
   "execution_count": 39,
   "metadata": {},
   "outputs": [],
   "source": [
    "ings_list = sorted(list(ings_list))"
   ]
  },
  {
   "cell_type": "code",
   "execution_count": 41,
   "metadata": {},
   "outputs": [],
   "source": [
    "ings_df = pd.DataFrame(ings_list, columns=[\"Ingredients\"])"
   ]
  },
  {
   "cell_type": "code",
   "execution_count": 43,
   "metadata": {},
   "outputs": [
    {
     "ename": "TypeError",
     "evalue": "Mismatch between array dtype ('object') and format specifier ('%.18e')",
     "output_type": "error",
     "traceback": [
      "\u001b[1;31m---------------------------------------------------------------------------\u001b[0m",
      "\u001b[1;31mTypeError\u001b[0m                                 Traceback (most recent call last)",
      "\u001b[1;32mC:\\ProgramData\\Anaconda3\\lib\\site-packages\\numpy\\lib\\npyio.py\u001b[0m in \u001b[0;36msavetxt\u001b[1;34m(fname, X, fmt, delimiter, newline, header, footer, comments, encoding)\u001b[0m\n\u001b[0;32m   1423\u001b[0m                 \u001b[1;32mtry\u001b[0m\u001b[1;33m:\u001b[0m\u001b[1;33m\u001b[0m\u001b[1;33m\u001b[0m\u001b[0m\n\u001b[1;32m-> 1424\u001b[1;33m                     \u001b[0mv\u001b[0m \u001b[1;33m=\u001b[0m \u001b[0mformat\u001b[0m \u001b[1;33m%\u001b[0m \u001b[0mtuple\u001b[0m\u001b[1;33m(\u001b[0m\u001b[0mrow\u001b[0m\u001b[1;33m)\u001b[0m \u001b[1;33m+\u001b[0m \u001b[0mnewline\u001b[0m\u001b[1;33m\u001b[0m\u001b[1;33m\u001b[0m\u001b[0m\n\u001b[0m\u001b[0;32m   1425\u001b[0m                 \u001b[1;32mexcept\u001b[0m \u001b[0mTypeError\u001b[0m\u001b[1;33m:\u001b[0m\u001b[1;33m\u001b[0m\u001b[1;33m\u001b[0m\u001b[0m\n",
      "\u001b[1;31mTypeError\u001b[0m: must be real number, not str",
      "\nDuring handling of the above exception, another exception occurred:\n",
      "\u001b[1;31mTypeError\u001b[0m                                 Traceback (most recent call last)",
      "\u001b[1;32m<ipython-input-43-e387afc41564>\u001b[0m in \u001b[0;36m<module>\u001b[1;34m\u001b[0m\n\u001b[1;32m----> 1\u001b[1;33m \u001b[0mnp\u001b[0m\u001b[1;33m.\u001b[0m\u001b[0msavetxt\u001b[0m\u001b[1;33m(\u001b[0m\u001b[1;34m'ingredient_list.csv'\u001b[0m\u001b[1;33m,\u001b[0m \u001b[0mings_df\u001b[0m\u001b[1;33m,\u001b[0m \u001b[0mdelimiter\u001b[0m\u001b[1;33m=\u001b[0m\u001b[1;34m','\u001b[0m\u001b[1;33m)\u001b[0m\u001b[1;33m\u001b[0m\u001b[1;33m\u001b[0m\u001b[0m\n\u001b[0m",
      "\u001b[1;32m<__array_function__ internals>\u001b[0m in \u001b[0;36msavetxt\u001b[1;34m(*args, **kwargs)\u001b[0m\n",
      "\u001b[1;32mC:\\ProgramData\\Anaconda3\\lib\\site-packages\\numpy\\lib\\npyio.py\u001b[0m in \u001b[0;36msavetxt\u001b[1;34m(fname, X, fmt, delimiter, newline, header, footer, comments, encoding)\u001b[0m\n\u001b[0;32m   1426\u001b[0m                     raise TypeError(\"Mismatch between array dtype ('%s') and \"\n\u001b[0;32m   1427\u001b[0m                                     \u001b[1;34m\"format specifier ('%s')\"\u001b[0m\u001b[1;33m\u001b[0m\u001b[1;33m\u001b[0m\u001b[0m\n\u001b[1;32m-> 1428\u001b[1;33m                                     % (str(X.dtype), format))\n\u001b[0m\u001b[0;32m   1429\u001b[0m                 \u001b[0mfh\u001b[0m\u001b[1;33m.\u001b[0m\u001b[0mwrite\u001b[0m\u001b[1;33m(\u001b[0m\u001b[0mv\u001b[0m\u001b[1;33m)\u001b[0m\u001b[1;33m\u001b[0m\u001b[1;33m\u001b[0m\u001b[0m\n\u001b[0;32m   1430\u001b[0m \u001b[1;33m\u001b[0m\u001b[0m\n",
      "\u001b[1;31mTypeError\u001b[0m: Mismatch between array dtype ('object') and format specifier ('%.18e')"
     ]
    }
   ],
   "source": [
    "ings_df.to_csv('ingredient_list.csv', index=False, line_terminator = ',\\n')"
   ]
  },
  {
   "cell_type": "code",
   "execution_count": null,
   "metadata": {},
   "outputs": [],
   "source": []
  }
 ],
 "metadata": {
  "kernelspec": {
   "display_name": "Python 3",
   "language": "python",
   "name": "python3"
  },
  "language_info": {
   "codemirror_mode": {
    "name": "ipython",
    "version": 3
   },
   "file_extension": ".py",
   "mimetype": "text/x-python",
   "name": "python",
   "nbconvert_exporter": "python",
   "pygments_lexer": "ipython3",
   "version": "3.7.1"
  }
 },
 "nbformat": 4,
 "nbformat_minor": 2
}
